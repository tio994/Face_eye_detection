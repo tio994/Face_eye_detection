{
 "cells": [
  {
   "cell_type": "code",
   "execution_count": 1,
   "metadata": {
    "ExecuteTime": {
     "end_time": "2020-06-08T03:04:27.976180Z",
     "start_time": "2020-06-08T03:04:13.787578Z"
    }
   },
   "outputs": [
    {
     "name": "stdout",
     "output_type": "stream",
     "text": [
      "ENO C:\\Users\\M_setyo\\haar\\data\\Eno\\eno337.jpg\n",
      "{'ENO': 0}\n",
      "[[254 254 254 ... 255 255 255]\n",
      " [254 254 254 ... 255 255 255]\n",
      " [254 254 254 ... 255 255 255]\n",
      " ...\n",
      " [205 206 209 ... 188 177 174]\n",
      " [206 208 209 ... 192 183 178]\n",
      " [206 208 210 ... 193 185 181]]\n",
      "ENO C:\\Users\\M_setyo\\haar\\data\\Eno\\eno338.jpg\n",
      "{'ENO': 0}\n",
      "[[254 254 254 ... 255 255 255]\n",
      " [254 254 254 ... 255 255 255]\n",
      " [254 254 254 ... 255 255 255]\n",
      " ...\n",
      " [203 208 210 ... 185 171 169]\n",
      " [206 208 208 ... 189 180 175]\n",
      " [206 208 209 ... 191 182 178]]\n",
      "RYAN C:\\Users\\M_setyo\\haar\\data\\Ryan\\ryan420.jpg\n",
      "{'ENO': 0, 'RYAN': 1}\n",
      "[[31 27 24 ... 27 26 26]\n",
      " [31 27 24 ... 26 26 25]\n",
      " [31 28 24 ... 29 29 29]\n",
      " ...\n",
      " [29 25 23 ... 80 82 81]\n",
      " [30 26 23 ... 81 82 81]\n",
      " [30 26 24 ... 80 83 82]]\n",
      "RYAN C:\\Users\\M_setyo\\haar\\data\\Ryan\\ryan421.jpg\n",
      "{'ENO': 0, 'RYAN': 1}\n",
      "[[25 23 23 ... 33 33 34]\n",
      " [26 24 23 ... 32 32 32]\n",
      " [25 23 21 ... 35 35 35]\n",
      " ...\n",
      " [23 20 20 ... 84 81 79]\n",
      " [22 19 20 ... 89 77 71]\n",
      " [22 20 20 ... 92 73 63]]\n",
      "RYAN C:\\Users\\M_setyo\\haar\\data\\Ryan\\ryan422.jpg\n",
      "{'ENO': 0, 'RYAN': 1}\n",
      "[[25 22 19 ... 31 30 31]\n",
      " [14 18 22 ... 34 34 35]\n",
      " [17 19 21 ... 37 37 37]\n",
      " ...\n",
      " [12 13 18 ... 70 63 58]\n",
      " [ 8  8 14 ... 67 55 48]\n",
      " [ 5  6 12 ... 63 60 62]]\n"
     ]
    }
   ],
   "source": [
    "import train"
   ]
  },
  {
   "cell_type": "code",
   "execution_count": null,
   "metadata": {
    "ExecuteTime": {
     "start_time": "2020-06-08T03:07:58.731Z"
    }
   },
   "outputs": [
    {
     "name": "stdout",
     "output_type": "stream",
     "text": [
      "494 122 182 122\n",
      "0\n",
      "ENO\n",
      "1 data ditambahkan\n"
     ]
    }
   ],
   "source": [
    "import faces"
   ]
  },
  {
   "cell_type": "code",
   "execution_count": null,
   "metadata": {},
   "outputs": [],
   "source": []
  }
 ],
 "metadata": {
  "kernelspec": {
   "display_name": "Python 3",
   "language": "python",
   "name": "python3"
  },
  "language_info": {
   "codemirror_mode": {
    "name": "ipython",
    "version": 3
   },
   "file_extension": ".py",
   "mimetype": "text/x-python",
   "name": "python",
   "nbconvert_exporter": "python",
   "pygments_lexer": "ipython3",
   "version": "3.8.2"
  },
  "toc": {
   "base_numbering": 1,
   "nav_menu": {},
   "number_sections": true,
   "sideBar": true,
   "skip_h1_title": false,
   "title_cell": "Table of Contents",
   "title_sidebar": "Contents",
   "toc_cell": false,
   "toc_position": {},
   "toc_section_display": true,
   "toc_window_display": false
  },
  "varInspector": {
   "cols": {
    "lenName": 16,
    "lenType": 16,
    "lenVar": 40
   },
   "kernels_config": {
    "python": {
     "delete_cmd_postfix": "",
     "delete_cmd_prefix": "del ",
     "library": "var_list.py",
     "varRefreshCmd": "print(var_dic_list())"
    },
    "r": {
     "delete_cmd_postfix": ") ",
     "delete_cmd_prefix": "rm(",
     "library": "var_list.r",
     "varRefreshCmd": "cat(var_dic_list()) "
    }
   },
   "types_to_exclude": [
    "module",
    "function",
    "builtin_function_or_method",
    "instance",
    "_Feature"
   ],
   "window_display": false
  }
 },
 "nbformat": 4,
 "nbformat_minor": 2
}
